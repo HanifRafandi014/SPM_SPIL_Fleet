{
 "cells": [
  {
   "cell_type": "code",
   "execution_count": 4,
   "metadata": {},
   "outputs": [],
   "source": [
    "import pandas as pd\n",
    "from sklearn.preprocessing import LabelEncoder\n",
    "from sklearn.metrics.pairwise import cosine_similarity\n",
    "import numpy as np"
   ]
  },
  {
   "cell_type": "code",
   "execution_count": 6,
   "metadata": {},
   "outputs": [
    {
     "name": "stderr",
     "output_type": "stream",
     "text": [
      "C:\\Users\\ilham\\AppData\\Local\\Temp\\ipykernel_35560\\1219883880.py:7: SettingWithCopyWarning: \n",
      "A value is trying to be set on a copy of a slice from a DataFrame.\n",
      "Try using .loc[row_indexer,col_indexer] = value instead\n",
      "\n",
      "See the caveats in the documentation: https://pandas.pydata.org/pandas-docs/stable/user_guide/indexing.html#returning-a-view-versus-a-copy\n",
      "  df['UMUR'] = df['UMUR'].apply(lambda x: int(str(x).split()[0]))\n",
      "C:\\Users\\ilham\\AppData\\Local\\Temp\\ipykernel_35560\\1219883880.py:14: SettingWithCopyWarning: \n",
      "A value is trying to be set on a copy of a slice from a DataFrame.\n",
      "Try using .loc[row_indexer,col_indexer] = value instead\n",
      "\n",
      "See the caveats in the documentation: https://pandas.pydata.org/pandas-docs/stable/user_guide/indexing.html#returning-a-view-versus-a-copy\n",
      "  df['RANK_ENCODED'] = le_rank.fit_transform(df['RANK'])\n",
      "C:\\Users\\ilham\\AppData\\Local\\Temp\\ipykernel_35560\\1219883880.py:15: SettingWithCopyWarning: \n",
      "A value is trying to be set on a copy of a slice from a DataFrame.\n",
      "Try using .loc[row_indexer,col_indexer] = value instead\n",
      "\n",
      "See the caveats in the documentation: https://pandas.pydata.org/pandas-docs/stable/user_guide/indexing.html#returning-a-view-versus-a-copy\n",
      "  df['VESSEL_ENCODED'] = le_vessel.fit_transform(df['VESSEL'])\n",
      "C:\\Users\\ilham\\AppData\\Local\\Temp\\ipykernel_35560\\1219883880.py:16: SettingWithCopyWarning: \n",
      "A value is trying to be set on a copy of a slice from a DataFrame.\n",
      "Try using .loc[row_indexer,col_indexer] = value instead\n",
      "\n",
      "See the caveats in the documentation: https://pandas.pydata.org/pandas-docs/stable/user_guide/indexing.html#returning-a-view-versus-a-copy\n",
      "  df['CERTIFICATE_ENCODED'] = le_certificate.fit_transform(df['CERTIFICATE'])\n"
     ]
    }
   ],
   "source": [
    "def preprocess_data_others(df):\n",
    "    df = df[['SEAMAN NAME', 'SEAMAN CODE', 'SEAFARER CODE', 'RANK', 'VESSEL', 'UMUR', 'CERTIFICATE']]\n",
    "    df['UMUR'] = df['UMUR'].apply(lambda x: int(str(x).split()[0]))\n",
    "    \n",
    "    le_rank = LabelEncoder()\n",
    "    le_vessel = LabelEncoder()\n",
    "    le_certificate = LabelEncoder()\n",
    "    \n",
    "    df['RANK_ENCODED'] = le_rank.fit_transform(df['RANK'])\n",
    "    df['VESSEL_ENCODED'] = le_vessel.fit_transform(df['VESSEL'])\n",
    "    df['CERTIFICATE_ENCODED'] = le_certificate.fit_transform(df['CERTIFICATE'])\n",
    "    \n",
    "    df_encoded = df[['RANK_ENCODED', 'VESSEL_ENCODED', 'UMUR', 'CERTIFICATE_ENCODED']]\n",
    "    \n",
    "    return df, df_encoded, le_rank, le_vessel, le_certificate\n",
    "\n",
    "def search_candidates_others(rank, vessel, certificate, age_range, df_original, df_encoded, le_rank, le_vessel, le_certificate):\n",
    "    df_filtered_indices = df_encoded[(df_encoded['UMUR'] >= age_range[0]) & (df_encoded['UMUR'] <= age_range[1])].index\n",
    "    \n",
    "    if df_filtered_indices.empty:\n",
    "        return \"No candidates found within the specified UMUR range.\"\n",
    "    \n",
    "    input_encoded = np.array([\n",
    "        le_rank.transform([rank])[0],\n",
    "        le_vessel.transform([vessel])[0],\n",
    "        np.mean(age_range), \n",
    "        le_certificate.transform([certificate])[0]\n",
    "    ]).reshape(1, -1)\n",
    "    \n",
    "    similarity_scores = cosine_similarity(input_encoded, df_encoded.loc[df_filtered_indices])\n",
    "\n",
    "    df_filtered = df_original.loc[df_filtered_indices].copy()\n",
    "    df_filtered['Similarity'] = similarity_scores[0]\n",
    "    df_filtered['Rank_Priority'] = df_filtered['RANK'] == rank\n",
    "    df_filtered['Certificate_Priority'] = df_filtered['CERTIFICATE'] == certificate\n",
    "    df_filtered['Vessel_Priority'] = df_filtered['VESSEL'] == vessel\n",
    "    \n",
    "    df_filtered = df_filtered.sort_values(\n",
    "        by=['Rank_Priority', 'Certificate_Priority', 'Vessel_Priority', 'Similarity'],\n",
    "        ascending=[False, False, False, False]\n",
    "    )\n",
    "    \n",
    "    result = df_filtered[['SEAMAN NAME', 'SEAMAN CODE', 'SEAFARER CODE', 'RANK', 'VESSEL', 'UMUR', 'CERTIFICATE', 'Similarity']].head(5)\n",
    "    \n",
    "    return result\n",
    "\n",
    "\n",
    "file_path = './data/Seamen Report.xlsx'\n",
    "xls = pd.ExcelFile(file_path)\n",
    "\n",
    "df_others = pd.read_excel(xls, sheet_name='others')\n",
    "df_others_original, df_others_encoded, le_rank_others, le_vessel_others, le_certificate_others = preprocess_data_others(df_others)\n"
   ]
  },
  {
   "cell_type": "code",
   "execution_count": 7,
   "metadata": {},
   "outputs": [
    {
     "name": "stdout",
     "output_type": "stream",
     "text": [
      "          SEAMAN NAME  SEAMAN CODE  SEAFARER CODE          RANK  \\\n",
      "167           LASIAJI     20120121     6201643820   ELECTRICIAN   \n",
      "166    ARIS MARDIYONO     20180375     6200565338   ELECTRICIAN   \n",
      "297  SUNU TRI NUGROHO     20140151     6201017885   ELECTRICIAN   \n",
      "95        ANDY WIJAYA     20230238     6200409892        FITTER   \n",
      "193            SARANA     20170038     6201398737  JURU MASAK I   \n",
      "\n",
      "                                VESSEL  UMUR            CERTIFICATE  \\\n",
      "167        PENDING GAJI (Pending Cuti)    44  BASIC SAFETY TRAINING   \n",
      "166        PENDING GAJI (Pending Cuti)    50                    ETO   \n",
      "297  PENDING GAJI (Pending Gaji Biasa)    43                    ETO   \n",
      "95                 DARAT (Darat Biasa)    46  BASIC SAFETY TRAINING   \n",
      "193        PENDING GAJI (Pending Cuti)    44  BASIC SAFETY TRAINING   \n",
      "\n",
      "     Similarity  \n",
      "167    0.997804  \n",
      "166    0.998102  \n",
      "297    0.995890  \n",
      "95     0.999358  \n",
      "193    0.996850  \n"
     ]
    }
   ],
   "source": [
    "result_others = search_candidates_others(\n",
    "    rank=\"ELECTRICIAN\",\n",
    "    vessel=\"DARAT\",\n",
    "    certificate=\"BASIC SAFETY TRAINING\",\n",
    "    age_range=(35, 50),\n",
    "    df_original=df_others_original,\n",
    "    df_encoded=df_others_encoded,\n",
    "    le_rank=le_rank_others,\n",
    "    le_vessel=le_vessel_others,\n",
    "    le_certificate=le_certificate_others\n",
    ")\n",
    "\n",
    "# Print the result\n",
    "print(result_others)"
   ]
  }
 ],
 "metadata": {
  "kernelspec": {
   "display_name": "vision1",
   "language": "python",
   "name": "python3"
  },
  "language_info": {
   "codemirror_mode": {
    "name": "ipython",
    "version": 3
   },
   "file_extension": ".py",
   "mimetype": "text/x-python",
   "name": "python",
   "nbconvert_exporter": "python",
   "pygments_lexer": "ipython3",
   "version": "3.10.13"
  }
 },
 "nbformat": 4,
 "nbformat_minor": 2
}
